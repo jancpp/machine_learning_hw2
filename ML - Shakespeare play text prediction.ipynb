{
 "cells": [
  {
   "cell_type": "markdown",
   "metadata": {},
   "source": [
    "# Shakespeare play text prediction"
   ]
  },
  {
   "cell_type": "markdown",
   "metadata": {},
   "source": [
    "Jan Polzer and Ryan Duckworth"
   ]
  },
  {
   "cell_type": "markdown",
   "metadata": {},
   "source": [
    "Dataset from: https://www.kaggle.com/kingburrito666/shakespeare-plays"
   ]
  },
  {
   "cell_type": "code",
   "execution_count": 1,
   "metadata": {},
   "outputs": [],
   "source": [
    "import numpy as np\n",
    "import pandas as pd\n",
    "import random"
   ]
  },
  {
   "cell_type": "markdown",
   "metadata": {},
   "source": [
    "Load dataset and drop the rows where at least one element is missing."
   ]
  },
  {
   "cell_type": "code",
   "execution_count": 2,
   "metadata": {},
   "outputs": [],
   "source": [
    "text = pd.read_csv('data/Shakespeare_data.csv').dropna()"
   ]
  },
  {
   "cell_type": "markdown",
   "metadata": {},
   "source": [
    "We imported 105,152 lines of Shakespeare text."
   ]
  },
  {
   "cell_type": "code",
   "execution_count": 3,
   "metadata": {
    "scrolled": true
   },
   "outputs": [
    {
     "name": "stdout",
     "output_type": "stream",
     "text": [
      "(105152, 6)\n"
     ]
    },
    {
     "data": {
      "text/html": [
       "<div>\n",
       "<style scoped>\n",
       "    .dataframe tbody tr th:only-of-type {\n",
       "        vertical-align: middle;\n",
       "    }\n",
       "\n",
       "    .dataframe tbody tr th {\n",
       "        vertical-align: top;\n",
       "    }\n",
       "\n",
       "    .dataframe thead th {\n",
       "        text-align: right;\n",
       "    }\n",
       "</style>\n",
       "<table border=\"1\" class=\"dataframe\">\n",
       "  <thead>\n",
       "    <tr style=\"text-align: right;\">\n",
       "      <th></th>\n",
       "      <th>Dataline</th>\n",
       "      <th>Play</th>\n",
       "      <th>PlayerLinenumber</th>\n",
       "      <th>ActSceneLine</th>\n",
       "      <th>Player</th>\n",
       "      <th>PlayerLine</th>\n",
       "    </tr>\n",
       "  </thead>\n",
       "  <tbody>\n",
       "    <tr>\n",
       "      <th>3</th>\n",
       "      <td>4</td>\n",
       "      <td>Henry IV</td>\n",
       "      <td>1.0</td>\n",
       "      <td>1.1.1</td>\n",
       "      <td>KING HENRY IV</td>\n",
       "      <td>So shaken as we are, so wan with care,</td>\n",
       "    </tr>\n",
       "  </tbody>\n",
       "</table>\n",
       "</div>"
      ],
      "text/plain": [
       "   Dataline      Play  PlayerLinenumber ActSceneLine         Player  \\\n",
       "3         4  Henry IV               1.0        1.1.1  KING HENRY IV   \n",
       "\n",
       "                               PlayerLine  \n",
       "3  So shaken as we are, so wan with care,  "
      ]
     },
     "execution_count": 3,
     "metadata": {},
     "output_type": "execute_result"
    }
   ],
   "source": [
    "print(text.shape)\n",
    "text.head(1)"
   ]
  },
  {
   "cell_type": "markdown",
   "metadata": {},
   "source": [
    "The PlayerLine column contains the text we want to use."
   ]
  },
  {
   "cell_type": "code",
   "execution_count": 4,
   "metadata": {},
   "outputs": [
    {
     "name": "stdout",
     "output_type": "stream",
     "text": [
      "['So shaken as we are, so wan with care,'\n",
      " 'Find we a time for frighted peace to pant,'\n",
      " 'And breathe short-winded accents of new broils' ...\n",
      " 'Each one demand an answer to his part'\n",
      " \"Perform'd in this wide gap of time since first\"\n",
      " \"We were dissever'd: hastily lead away.\"]\n"
     ]
    }
   ],
   "source": [
    "text = text.iloc[:,-1].values\n",
    "print(text)"
   ]
  },
  {
   "cell_type": "markdown",
   "metadata": {},
   "source": [
    "We join the text using the new line character."
   ]
  },
  {
   "cell_type": "code",
   "execution_count": 5,
   "metadata": {},
   "outputs": [],
   "source": [
    "data = \"\\n\".join(text)"
   ]
  },
  {
   "cell_type": "code",
   "execution_count": 6,
   "metadata": {},
   "outputs": [],
   "source": [
    "dictionary = {}"
   ]
  },
  {
   "cell_type": "markdown",
   "metadata": {},
   "source": [
    "We create a dictionary and count the number of times the next word occurs after the current word."
   ]
  },
  {
   "cell_type": "code",
   "execution_count": 7,
   "metadata": {},
   "outputs": [],
   "source": [
    "for line in data.split('\\n'):\n",
    "    words = line.split(' ')\n",
    "    for word1, word2 in zip(words[:-1],words[1:]):\n",
    "        if word1 not in dictionary:\n",
    "            dictionary[word1] = {word2:1}\n",
    "        else:\n",
    "            if word2 not in dictionary[word1]:\n",
    "                #First time encountered word2 after word1 (not in dictionary), set to 1 occurrence\n",
    "                dictionary[word1][word2] = 1\n",
    "            else:\n",
    "                #Additional times encountered word2 after word1, increment the number of occurrences\n",
    "                dictionary[word1][word2] += 1"
   ]
  },
  {
   "cell_type": "markdown",
   "metadata": {},
   "source": [
    "Predict next word function. word1 is the previous word. The most_frequent flag has more useful results when set to False, to avoid repetition of the most frequently used word. The randomization of results works much better."
   ]
  },
  {
   "cell_type": "code",
   "execution_count": 8,
   "metadata": {},
   "outputs": [],
   "source": [
    "def predict_next_word(word1, dictionary, most_frequent):\n",
    "    if word1 not in dictionary:\n",
    "        word1 = \"\"\n",
    "    \n",
    "    path = dictionary[word1]\n",
    "    pathArray = []\n",
    "    \n",
    "    if most_frequent:\n",
    "        #Return the most frequently occuring word that occurs after last_word\n",
    "        most_frequent_word = max(path, key=path.get)\n",
    "        return most_frequent_word\n",
    "    else:\n",
    "        #Return a random word that occurs after last_word\n",
    "        for word in path:\n",
    "            freq = path[word]\n",
    "            for f in range(freq):\n",
    "                pathArray.append(word)\n",
    "        return pathArray[random.randint(0, len(pathArray)-1)]"
   ]
  },
  {
   "cell_type": "markdown",
   "metadata": {},
   "source": [
    "### Generate new text from the text corpus"
   ]
  },
  {
   "cell_type": "code",
   "execution_count": 9,
   "metadata": {},
   "outputs": [
    {
     "name": "stdout",
     "output_type": "stream",
     "text": [
      "'Thou liest' unto thy pump, that their own shapes, of the softness of shame to say 'Amen,'   Thy lord's health, in surmise, and his horse, even for her lord. My lord I am your cabin at a fault for my grandsire Priam turn his journey, be wicked? is nobility's true and to a coward hand and I of wrath, which she shall: go with their swords with her, in the expulsion is fabulous story, she shall devour their ease, will you suspect thee so answer'd. Tell me sport: her youngest son against her passing to alter\n"
     ]
    }
   ],
   "source": [
    "sentence = \"\"\n",
    "last_word = \"\"\n",
    "length = 100\n",
    "\n",
    "for each_word in range(0, length):\n",
    "    next_word = predict_next_word(last_word, dictionary, False)\n",
    "    sentence += \" %s\"%(next_word)\n",
    "    last_word = next_word\n",
    "print(sentence.strip())"
   ]
  },
  {
   "cell_type": "markdown",
   "metadata": {},
   "source": [
    "### Perform text prediction given a sequence of words"
   ]
  },
  {
   "cell_type": "code",
   "execution_count": 10,
   "metadata": {},
   "outputs": [],
   "source": [
    "def predict_given_words(words, length, most_frequent = False):\n",
    "    \n",
    "    w = words.split(' ')\n",
    "    last_word = w[-1]\n",
    "\n",
    "    for each_word in range(0, length):\n",
    "        next_word = predict_next_word(last_word, dictionary, most_frequent)\n",
    "        words += \" %s\"%(next_word)\n",
    "        last_word = next_word\n",
    "        words.strip()\n",
    "    return words"
   ]
  },
  {
   "cell_type": "markdown",
   "metadata": {},
   "source": [
    "3 Examples below of predicting the next word using random words found in the dictionary after the last word"
   ]
  },
  {
   "cell_type": "code",
   "execution_count": 11,
   "metadata": {},
   "outputs": [
    {
     "name": "stdout",
     "output_type": "stream",
     "text": [
      "I shall be out of a dulcet sounds retreat, and as I am Cinna the nuptial vow, sirrah, by right. Go, wind, turns the world. O my rapt in the food for the table, now purple dye, 'Tis now to him. Know'st thou hast not that title,--  These weeds are they will\n"
     ]
    }
   ],
   "source": [
    "sentence = predict_given_words(\"I shall be\", 50)\n",
    "print(sentence)"
   ]
  },
  {
   "cell_type": "code",
   "execution_count": 12,
   "metadata": {},
   "outputs": [
    {
     "name": "stdout",
     "output_type": "stream",
     "text": [
      "O my country's earth, bear to seek redemption thence into the curtains draw. And thus it comes in her out of the fair safety, for your affections by ten thousand ducats in the king this? Sense, sure, it meet, think your pasture, let us some hour before her knee slaves, vapours, and\n"
     ]
    }
   ],
   "source": [
    "sentence = predict_given_words(\"O my\", 50)\n",
    "print(sentence)"
   ]
  },
  {
   "cell_type": "code",
   "execution_count": 13,
   "metadata": {},
   "outputs": [
    {
     "name": "stdout",
     "output_type": "stream",
     "text": [
      "As this arrest: Francis! Who wears at him, tear that did when I can impress of that rebels are witness you know you did you? Hence, saucy with grief, it in a foot, and I have told him with no more than fight. Now my opinion, they come: the back receive thyself.\n"
     ]
    }
   ],
   "source": [
    "sentence = predict_given_words(\"As this\", 50)\n",
    "print(sentence)"
   ]
  },
  {
   "cell_type": "markdown",
   "metadata": {},
   "source": [
    "Example below of using most frequent word found in the in dictionary after the last word\n",
    "We found the randomization above to be better for generating text because using the most frequent words creates a repetitive pattern. See 2nd example below for example: \"and the king...\""
   ]
  },
  {
   "cell_type": "code",
   "execution_count": 14,
   "metadata": {},
   "outputs": [
    {
     "name": "stdout",
     "output_type": "stream",
     "text": [
      "I shall be a man of the king\n"
     ]
    }
   ],
   "source": [
    "sentence = predict_given_words(\"I shall be\", 5, True)\n",
    "print(sentence)"
   ]
  },
  {
   "cell_type": "code",
   "execution_count": 15,
   "metadata": {},
   "outputs": [
    {
     "name": "stdout",
     "output_type": "stream",
     "text": [
      "I shall be a man of the king and the king and the king\n"
     ]
    }
   ],
   "source": [
    "#Example of the repetition we don't want when only using the most frequent words, without randomization\n",
    "sentence = predict_given_words(\"I shall be\", 11, True)\n",
    "print(sentence)"
   ]
  },
  {
   "cell_type": "code",
   "execution_count": 16,
   "metadata": {},
   "outputs": [
    {
     "name": "stdout",
     "output_type": "stream",
     "text": [
      "I shall be forgot!  If thou art: but the breach in Rome with\n"
     ]
    }
   ],
   "source": [
    "#By passing False into the most_frequent parameter of the predict_given_words and predict_next_word functions, \n",
    "#it produces much better text using randomization of words in the path of the previous word.\n",
    "sentence = predict_given_words(\"I shall be\", 11, False)\n",
    "print(sentence)"
   ]
  },
  {
   "cell_type": "markdown",
   "metadata": {},
   "source": [
    "### Try the application"
   ]
  },
  {
   "cell_type": "code",
   "execution_count": 17,
   "metadata": {},
   "outputs": [
    {
     "name": "stdout",
     "output_type": "stream",
     "text": [
      "Enter a beginning of a sentence: Hello the king of England\n",
      "Enter how many more words you want in the sentence: 10\n"
     ]
    }
   ],
   "source": [
    "text_start = input('Enter a beginning of a sentence: ')\n",
    "word_count = int(input('Enter how many more words you want in the sentence: '))"
   ]
  },
  {
   "cell_type": "code",
   "execution_count": 18,
   "metadata": {},
   "outputs": [
    {
     "name": "stdout",
     "output_type": "stream",
     "text": [
      "Hello the king of England prisoner? I am conqueror of your love. I'll make catlings\n"
     ]
    }
   ],
   "source": [
    "print(predict_given_words(text_start, word_count))"
   ]
  }
 ],
 "metadata": {
  "kernelspec": {
   "display_name": "Python 3",
   "language": "python",
   "name": "python3"
  },
  "language_info": {
   "codemirror_mode": {
    "name": "ipython",
    "version": 3
   },
   "file_extension": ".py",
   "mimetype": "text/x-python",
   "name": "python",
   "nbconvert_exporter": "python",
   "pygments_lexer": "ipython3",
   "version": "3.7.1"
  }
 },
 "nbformat": 4,
 "nbformat_minor": 2
}
